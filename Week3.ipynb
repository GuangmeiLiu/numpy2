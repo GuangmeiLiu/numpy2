# Numpy
#Q1
import numpy as np
a = np.random.random_sample((10,10))*10
b=np.mean(a)
print(a)
print(b)

#Q2
import numpy as np
a = np.arange(15)
b=a+1
c=b.reshape(3,5)
d=c.transpose()

print(d[1:2], d[3:4])

#Q3
import numpy as np
def inner(y,x):
a=np.ones(y*x).reshape(y,x)
a[1:y-1,1:x-1]=0
return a

#Q4
import numpy as np
angle=15*np.arange(7)
print(angle)
sine=np.sin(angle)
print(sine)
cosine=np.cos(angle)
print(cosine)
tangent=np.tan(angle)
print(tangent)
arcsine=np.arcsin(sine)*180/np.pi
print(arcsine)
arccosine=np.arccos(cosine)*180/np.pi
print(arccosine)
arctangent=np.arctan(tangent)*180/np.pi
print(arctangent)

#Q5
x=np.array([1,-1,2,5,8,4,10,12,3])
a=len(x)
for i in range (1,len(x)):
    d=abs(x[i]-x[i-1])
    print (d)
